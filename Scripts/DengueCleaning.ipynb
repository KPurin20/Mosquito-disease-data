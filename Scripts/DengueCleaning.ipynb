{
 "cells": [
  {
   "cell_type": "markdown",
   "id": "db242910-57c0-4dc2-a670-8154412dd85a",
   "metadata": {},
   "source": [
    "# Dengue Cleaning"
   ]
  },
  {
   "cell_type": "code",
   "execution_count": 184,
   "id": "6931f570-1fa3-48b6-9af5-a4c65200322f",
   "metadata": {},
   "outputs": [],
   "source": [
    "import pandas as pd\n",
    "\n",
    "# Load dataset\n",
    "file_path = \"Downloads/Dengue_Global_Data.csv\"\n",
    "df = pd.read_csv(file_path)"
   ]
  },
  {
   "cell_type": "code",
   "execution_count": 186,
   "id": "bd2797ca-ecee-4565-b9e3-28d8343bcab5",
   "metadata": {},
   "outputs": [
    {
     "data": {
      "text/html": [
       "<div>\n",
       "<style scoped>\n",
       "    .dataframe tbody tr th:only-of-type {\n",
       "        vertical-align: middle;\n",
       "    }\n",
       "\n",
       "    .dataframe tbody tr th {\n",
       "        vertical-align: top;\n",
       "    }\n",
       "\n",
       "    .dataframe thead th {\n",
       "        text-align: right;\n",
       "    }\n",
       "</style>\n",
       "<table border=\"1\" class=\"dataframe\">\n",
       "  <thead>\n",
       "    <tr style=\"text-align: right;\">\n",
       "      <th></th>\n",
       "      <th>adm_0_name</th>\n",
       "      <th>adm_1_name</th>\n",
       "      <th>adm_2_name</th>\n",
       "      <th>full_name</th>\n",
       "      <th>ISO_A0</th>\n",
       "      <th>FAO_GAUL_code</th>\n",
       "      <th>RNE_iso_code</th>\n",
       "      <th>IBGE_code</th>\n",
       "      <th>calendar_start_date</th>\n",
       "      <th>calendar_end_date</th>\n",
       "      <th>Year</th>\n",
       "      <th>dengue_total</th>\n",
       "      <th>case_definition_standardised</th>\n",
       "      <th>S_res</th>\n",
       "      <th>T_res</th>\n",
       "      <th>UUID</th>\n",
       "    </tr>\n",
       "  </thead>\n",
       "  <tbody>\n",
       "    <tr>\n",
       "      <th>0</th>\n",
       "      <td>AFGHANISTAN</td>\n",
       "      <td>NaN</td>\n",
       "      <td>NaN</td>\n",
       "      <td>AFGHANISTAN</td>\n",
       "      <td>AFG</td>\n",
       "      <td>1011446</td>\n",
       "      <td>AFG</td>\n",
       "      <td>NaN</td>\n",
       "      <td>2021-01-03</td>\n",
       "      <td>2021-01-09</td>\n",
       "      <td>2021</td>\n",
       "      <td>101.0</td>\n",
       "      <td>Suspected</td>\n",
       "      <td>Admin0</td>\n",
       "      <td>Week</td>\n",
       "      <td>WHOEMRO-ALL-2021-Y01-05</td>\n",
       "    </tr>\n",
       "    <tr>\n",
       "      <th>1</th>\n",
       "      <td>AFGHANISTAN</td>\n",
       "      <td>NaN</td>\n",
       "      <td>NaN</td>\n",
       "      <td>AFGHANISTAN</td>\n",
       "      <td>AFG</td>\n",
       "      <td>1011446</td>\n",
       "      <td>AFG</td>\n",
       "      <td>NaN</td>\n",
       "      <td>2021-01-10</td>\n",
       "      <td>2021-01-16</td>\n",
       "      <td>2021</td>\n",
       "      <td>151.0</td>\n",
       "      <td>Suspected</td>\n",
       "      <td>Admin0</td>\n",
       "      <td>Week</td>\n",
       "      <td>WHOEMRO-ALL-2021-Y01-05</td>\n",
       "    </tr>\n",
       "    <tr>\n",
       "      <th>2</th>\n",
       "      <td>AFGHANISTAN</td>\n",
       "      <td>NaN</td>\n",
       "      <td>NaN</td>\n",
       "      <td>AFGHANISTAN</td>\n",
       "      <td>AFG</td>\n",
       "      <td>1011446</td>\n",
       "      <td>AFG</td>\n",
       "      <td>NaN</td>\n",
       "      <td>2021-01-17</td>\n",
       "      <td>2021-01-23</td>\n",
       "      <td>2021</td>\n",
       "      <td>201.0</td>\n",
       "      <td>Suspected</td>\n",
       "      <td>Admin0</td>\n",
       "      <td>Week</td>\n",
       "      <td>WHOEMRO-ALL-2021-Y01-05</td>\n",
       "    </tr>\n",
       "    <tr>\n",
       "      <th>3</th>\n",
       "      <td>AFGHANISTAN</td>\n",
       "      <td>NaN</td>\n",
       "      <td>NaN</td>\n",
       "      <td>AFGHANISTAN</td>\n",
       "      <td>AFG</td>\n",
       "      <td>1011446</td>\n",
       "      <td>AFG</td>\n",
       "      <td>NaN</td>\n",
       "      <td>2021-01-24</td>\n",
       "      <td>2021-01-30</td>\n",
       "      <td>2021</td>\n",
       "      <td>202.0</td>\n",
       "      <td>Suspected</td>\n",
       "      <td>Admin0</td>\n",
       "      <td>Week</td>\n",
       "      <td>WHOEMRO-ALL-2021-Y01-05</td>\n",
       "    </tr>\n",
       "    <tr>\n",
       "      <th>4</th>\n",
       "      <td>AFGHANISTAN</td>\n",
       "      <td>NaN</td>\n",
       "      <td>NaN</td>\n",
       "      <td>AFGHANISTAN</td>\n",
       "      <td>AFG</td>\n",
       "      <td>1011446</td>\n",
       "      <td>AFG</td>\n",
       "      <td>NaN</td>\n",
       "      <td>2021-01-31</td>\n",
       "      <td>2021-02-06</td>\n",
       "      <td>2021</td>\n",
       "      <td>100.0</td>\n",
       "      <td>Suspected</td>\n",
       "      <td>Admin0</td>\n",
       "      <td>Week</td>\n",
       "      <td>WHOEMRO-ALL-2021-Y01-05</td>\n",
       "    </tr>\n",
       "  </tbody>\n",
       "</table>\n",
       "</div>"
      ],
      "text/plain": [
       "    adm_0_name  adm_1_name  adm_2_name    full_name ISO_A0  FAO_GAUL_code  \\\n",
       "0  AFGHANISTAN         NaN         NaN  AFGHANISTAN    AFG        1011446   \n",
       "1  AFGHANISTAN         NaN         NaN  AFGHANISTAN    AFG        1011446   \n",
       "2  AFGHANISTAN         NaN         NaN  AFGHANISTAN    AFG        1011446   \n",
       "3  AFGHANISTAN         NaN         NaN  AFGHANISTAN    AFG        1011446   \n",
       "4  AFGHANISTAN         NaN         NaN  AFGHANISTAN    AFG        1011446   \n",
       "\n",
       "  RNE_iso_code  IBGE_code calendar_start_date calendar_end_date  Year  \\\n",
       "0          AFG        NaN          2021-01-03        2021-01-09  2021   \n",
       "1          AFG        NaN          2021-01-10        2021-01-16  2021   \n",
       "2          AFG        NaN          2021-01-17        2021-01-23  2021   \n",
       "3          AFG        NaN          2021-01-24        2021-01-30  2021   \n",
       "4          AFG        NaN          2021-01-31        2021-02-06  2021   \n",
       "\n",
       "   dengue_total case_definition_standardised   S_res T_res  \\\n",
       "0         101.0                    Suspected  Admin0  Week   \n",
       "1         151.0                    Suspected  Admin0  Week   \n",
       "2         201.0                    Suspected  Admin0  Week   \n",
       "3         202.0                    Suspected  Admin0  Week   \n",
       "4         100.0                    Suspected  Admin0  Week   \n",
       "\n",
       "                      UUID  \n",
       "0  WHOEMRO-ALL-2021-Y01-05  \n",
       "1  WHOEMRO-ALL-2021-Y01-05  \n",
       "2  WHOEMRO-ALL-2021-Y01-05  \n",
       "3  WHOEMRO-ALL-2021-Y01-05  \n",
       "4  WHOEMRO-ALL-2021-Y01-05  "
      ]
     },
     "execution_count": 186,
     "metadata": {},
     "output_type": "execute_result"
    }
   ],
   "source": [
    "df.head()"
   ]
  },
  {
   "cell_type": "code",
   "execution_count": 188,
   "id": "cbedb739-d636-4655-981d-d6d096d2cca3",
   "metadata": {},
   "outputs": [],
   "source": [
    "# Convert time periods to proper date format\n",
    "df['calendar_start_date'] = pd.to_datetime(df['calendar_start_date'])\n",
    "df['calendar_end_date'] = pd.to_datetime(df['calendar_end_date'])\n",
    "\n",
    "# Keep relevant columns\n",
    "df = df[['full_name', 'Year', 'dengue_total']]\n",
    "\n",
    "# Convert dengue_total to numeric\n",
    "df['dengue_total'] = pd.to_numeric(df['dengue_total'], errors='coerce')\n",
    "\n",
    "# Group by Country and Year, summing all reported cases within each year as some data is reported weekly and monthly\n",
    "dengue_yearly = df.groupby(['full_name', 'Year'], as_index=False)['dengue_total'].sum()\n",
    "\n",
    "# Rename for clarity\n",
    "dengue_yearly.rename(columns={'dengue_total': 'Annual_dengue_total'}, inplace=True)"
   ]
  },
  {
   "cell_type": "code",
   "execution_count": 190,
   "id": "080b5261-8d4f-49f2-b601-b5db93bd1bd3",
   "metadata": {},
   "outputs": [],
   "source": [
    "# Standardize country names\n",
    "dengue_yearly['full_name'] = dengue_yearly['full_name'].str.title()"
   ]
  },
  {
   "cell_type": "code",
   "execution_count": 192,
   "id": "b341eb4f-886e-49f8-adcd-b9d384ec9134",
   "metadata": {},
   "outputs": [],
   "source": [
    "# Rename columns\n",
    "dengue_yearly.rename(columns={\n",
    "    'full_name': 'Country',\n",
    "    'ISO_A0' : 'Country Code'\n",
    "}, inplace=True)"
   ]
  },
  {
   "cell_type": "code",
   "execution_count": 194,
   "id": "b7aad3f0-7be3-495c-af0f-5e68a3d57ead",
   "metadata": {},
   "outputs": [
    {
     "data": {
      "text/html": [
       "<div>\n",
       "<style scoped>\n",
       "    .dataframe tbody tr th:only-of-type {\n",
       "        vertical-align: middle;\n",
       "    }\n",
       "\n",
       "    .dataframe tbody tr th {\n",
       "        vertical-align: top;\n",
       "    }\n",
       "\n",
       "    .dataframe thead th {\n",
       "        text-align: right;\n",
       "    }\n",
       "</style>\n",
       "<table border=\"1\" class=\"dataframe\">\n",
       "  <thead>\n",
       "    <tr style=\"text-align: right;\">\n",
       "      <th></th>\n",
       "      <th>Country</th>\n",
       "      <th>Year</th>\n",
       "      <th>Annual_dengue_total</th>\n",
       "    </tr>\n",
       "  </thead>\n",
       "  <tbody>\n",
       "    <tr>\n",
       "      <th>0</th>\n",
       "      <td>Afghanistan</td>\n",
       "      <td>2021</td>\n",
       "      <td>4176.0</td>\n",
       "    </tr>\n",
       "    <tr>\n",
       "      <th>1</th>\n",
       "      <td>American Samoa</td>\n",
       "      <td>1955</td>\n",
       "      <td>0.0</td>\n",
       "    </tr>\n",
       "    <tr>\n",
       "      <th>2</th>\n",
       "      <td>American Samoa</td>\n",
       "      <td>1979</td>\n",
       "      <td>0.0</td>\n",
       "    </tr>\n",
       "    <tr>\n",
       "      <th>3</th>\n",
       "      <td>American Samoa</td>\n",
       "      <td>1980</td>\n",
       "      <td>1.0</td>\n",
       "    </tr>\n",
       "    <tr>\n",
       "      <th>4</th>\n",
       "      <td>American Samoa</td>\n",
       "      <td>1981</td>\n",
       "      <td>1.0</td>\n",
       "    </tr>\n",
       "  </tbody>\n",
       "</table>\n",
       "</div>"
      ],
      "text/plain": [
       "          Country  Year  Annual_dengue_total\n",
       "0     Afghanistan  2021               4176.0\n",
       "1  American Samoa  1955                  0.0\n",
       "2  American Samoa  1979                  0.0\n",
       "3  American Samoa  1980                  1.0\n",
       "4  American Samoa  1981                  1.0"
      ]
     },
     "execution_count": 194,
     "metadata": {},
     "output_type": "execute_result"
    }
   ],
   "source": [
    "dengue_yearly.head()"
   ]
  },
  {
   "cell_type": "code",
   "execution_count": 196,
   "id": "2a109136-bd13-4c3f-ab71-221d7314821e",
   "metadata": {},
   "outputs": [
    {
     "data": {
      "text/html": [
       "<div>\n",
       "<style scoped>\n",
       "    .dataframe tbody tr th:only-of-type {\n",
       "        vertical-align: middle;\n",
       "    }\n",
       "\n",
       "    .dataframe tbody tr th {\n",
       "        vertical-align: top;\n",
       "    }\n",
       "\n",
       "    .dataframe thead th {\n",
       "        text-align: right;\n",
       "    }\n",
       "</style>\n",
       "<table border=\"1\" class=\"dataframe\">\n",
       "  <thead>\n",
       "    <tr style=\"text-align: right;\">\n",
       "      <th></th>\n",
       "      <th>Year</th>\n",
       "      <th>Annual_dengue_total</th>\n",
       "    </tr>\n",
       "  </thead>\n",
       "  <tbody>\n",
       "    <tr>\n",
       "      <th>count</th>\n",
       "      <td>3368.000000</td>\n",
       "      <td>3.368000e+03</td>\n",
       "    </tr>\n",
       "    <tr>\n",
       "      <th>mean</th>\n",
       "      <td>2000.501781</td>\n",
       "      <td>1.686767e+04</td>\n",
       "    </tr>\n",
       "    <tr>\n",
       "      <th>std</th>\n",
       "      <td>14.901339</td>\n",
       "      <td>9.858909e+04</td>\n",
       "    </tr>\n",
       "    <tr>\n",
       "      <th>min</th>\n",
       "      <td>1924.000000</td>\n",
       "      <td>0.000000e+00</td>\n",
       "    </tr>\n",
       "    <tr>\n",
       "      <th>25%</th>\n",
       "      <td>1991.000000</td>\n",
       "      <td>1.000000e+00</td>\n",
       "    </tr>\n",
       "    <tr>\n",
       "      <th>50%</th>\n",
       "      <td>2002.000000</td>\n",
       "      <td>1.830000e+02</td>\n",
       "    </tr>\n",
       "    <tr>\n",
       "      <th>75%</th>\n",
       "      <td>2013.000000</td>\n",
       "      <td>4.297750e+03</td>\n",
       "    </tr>\n",
       "    <tr>\n",
       "      <th>max</th>\n",
       "      <td>2023.000000</td>\n",
       "      <td>2.253883e+06</td>\n",
       "    </tr>\n",
       "  </tbody>\n",
       "</table>\n",
       "</div>"
      ],
      "text/plain": [
       "              Year  Annual_dengue_total\n",
       "count  3368.000000         3.368000e+03\n",
       "mean   2000.501781         1.686767e+04\n",
       "std      14.901339         9.858909e+04\n",
       "min    1924.000000         0.000000e+00\n",
       "25%    1991.000000         1.000000e+00\n",
       "50%    2002.000000         1.830000e+02\n",
       "75%    2013.000000         4.297750e+03\n",
       "max    2023.000000         2.253883e+06"
      ]
     },
     "execution_count": 196,
     "metadata": {},
     "output_type": "execute_result"
    }
   ],
   "source": [
    "dengue_yearly.describe()"
   ]
  },
  {
   "cell_type": "code",
   "execution_count": 218,
   "id": "7f71105f-1e1e-430a-a5d1-a3810f1b5d19",
   "metadata": {},
   "outputs": [],
   "source": [
    "# reducing years to last 25 years for more reliable reporting metrics as well removal of 2023 as reporting is incomplete\n",
    "df_recent = dengue_yearly[~dengue_yearly['Year'].between(1924, 1999)]\n",
    "df_recent = df_recent[df_recent['Year'] != 2023]"
   ]
  },
  {
   "cell_type": "markdown",
   "id": "c11e33de-06d8-49bf-9406-ad76c6cab8d8",
   "metadata": {},
   "source": [
    "## Check base statistics, null values, data types, and any duplicates for final dataframe before export"
   ]
  },
  {
   "cell_type": "code",
   "execution_count": 221,
   "id": "e8ef8d9e-1002-4a16-a8a7-f2a7fcc928cc",
   "metadata": {},
   "outputs": [
    {
     "data": {
      "text/html": [
       "<div>\n",
       "<style scoped>\n",
       "    .dataframe tbody tr th:only-of-type {\n",
       "        vertical-align: middle;\n",
       "    }\n",
       "\n",
       "    .dataframe tbody tr th {\n",
       "        vertical-align: top;\n",
       "    }\n",
       "\n",
       "    .dataframe thead th {\n",
       "        text-align: right;\n",
       "    }\n",
       "</style>\n",
       "<table border=\"1\" class=\"dataframe\">\n",
       "  <thead>\n",
       "    <tr style=\"text-align: right;\">\n",
       "      <th></th>\n",
       "      <th>Year</th>\n",
       "      <th>Annual_dengue_total</th>\n",
       "    </tr>\n",
       "  </thead>\n",
       "  <tbody>\n",
       "    <tr>\n",
       "      <th>count</th>\n",
       "      <td>1907.000000</td>\n",
       "      <td>1.907000e+03</td>\n",
       "    </tr>\n",
       "    <tr>\n",
       "      <th>mean</th>\n",
       "      <td>2010.939171</td>\n",
       "      <td>2.503731e+04</td>\n",
       "    </tr>\n",
       "    <tr>\n",
       "      <th>std</th>\n",
       "      <td>6.723865</td>\n",
       "      <td>1.279125e+05</td>\n",
       "    </tr>\n",
       "    <tr>\n",
       "      <th>min</th>\n",
       "      <td>2000.000000</td>\n",
       "      <td>0.000000e+00</td>\n",
       "    </tr>\n",
       "    <tr>\n",
       "      <th>25%</th>\n",
       "      <td>2005.000000</td>\n",
       "      <td>4.000000e+00</td>\n",
       "    </tr>\n",
       "    <tr>\n",
       "      <th>50%</th>\n",
       "      <td>2011.000000</td>\n",
       "      <td>3.700000e+02</td>\n",
       "    </tr>\n",
       "    <tr>\n",
       "      <th>75%</th>\n",
       "      <td>2017.000000</td>\n",
       "      <td>8.370000e+03</td>\n",
       "    </tr>\n",
       "    <tr>\n",
       "      <th>max</th>\n",
       "      <td>2022.000000</td>\n",
       "      <td>2.253883e+06</td>\n",
       "    </tr>\n",
       "  </tbody>\n",
       "</table>\n",
       "</div>"
      ],
      "text/plain": [
       "              Year  Annual_dengue_total\n",
       "count  1907.000000         1.907000e+03\n",
       "mean   2010.939171         2.503731e+04\n",
       "std       6.723865         1.279125e+05\n",
       "min    2000.000000         0.000000e+00\n",
       "25%    2005.000000         4.000000e+00\n",
       "50%    2011.000000         3.700000e+02\n",
       "75%    2017.000000         8.370000e+03\n",
       "max    2022.000000         2.253883e+06"
      ]
     },
     "execution_count": 221,
     "metadata": {},
     "output_type": "execute_result"
    }
   ],
   "source": [
    "df_recent.describe()"
   ]
  },
  {
   "cell_type": "code",
   "execution_count": 223,
   "id": "fe6211fb-5496-49b4-8a0f-e8d4baa48f40",
   "metadata": {},
   "outputs": [
    {
     "data": {
      "text/plain": [
       "Country                0\n",
       "Year                   0\n",
       "Annual_dengue_total    0\n",
       "dtype: int64"
      ]
     },
     "execution_count": 223,
     "metadata": {},
     "output_type": "execute_result"
    }
   ],
   "source": [
    "df_recent.isnull().sum()"
   ]
  },
  {
   "cell_type": "code",
   "execution_count": 225,
   "id": "8755f9e6-43ec-4070-b8fa-5eb226fe879e",
   "metadata": {},
   "outputs": [
    {
     "data": {
      "text/plain": [
       "Country                 object\n",
       "Year                     int64\n",
       "Annual_dengue_total    float64\n",
       "dtype: object"
      ]
     },
     "execution_count": 225,
     "metadata": {},
     "output_type": "execute_result"
    }
   ],
   "source": [
    "df_recent.dtypes"
   ]
  },
  {
   "cell_type": "code",
   "execution_count": 227,
   "id": "8641784b-e455-4cdf-b750-9b47f23c28a0",
   "metadata": {},
   "outputs": [
    {
     "name": "stdout",
     "output_type": "stream",
     "text": [
      "0\n"
     ]
    }
   ],
   "source": [
    "print(df_recent.duplicated().sum())"
   ]
  },
  {
   "cell_type": "code",
   "execution_count": 229,
   "id": "6ee1f2d7-d85f-4fcd-9688-a17b4f30f23e",
   "metadata": {},
   "outputs": [],
   "source": [
    "df_recent.to_csv(\"Yearly_Dengue_Data.csv\", index=False)"
   ]
  },
  {
   "cell_type": "code",
   "execution_count": null,
   "id": "128d7771-4616-4a4e-95d7-7df0eff39c1c",
   "metadata": {},
   "outputs": [],
   "source": []
  }
 ],
 "metadata": {
  "kernelspec": {
   "display_name": "Python 3 (ipykernel)",
   "language": "python",
   "name": "python3"
  },
  "language_info": {
   "codemirror_mode": {
    "name": "ipython",
    "version": 3
   },
   "file_extension": ".py",
   "mimetype": "text/x-python",
   "name": "python",
   "nbconvert_exporter": "python",
   "pygments_lexer": "ipython3",
   "version": "3.11.5"
  }
 },
 "nbformat": 4,
 "nbformat_minor": 5
}
