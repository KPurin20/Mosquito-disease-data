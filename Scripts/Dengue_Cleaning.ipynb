{
 "cells": [
  {
   "cell_type": "code",
   "execution_count": 13,
   "id": "26de55b1-2f8e-4bf2-8c69-7d7df626e7c0",
   "metadata": {},
   "outputs": [
    {
     "name": "stdout",
     "output_type": "stream",
     "text": [
      "       Country Country Code  Year  Month  Monthly_dengue_total\n",
      "0  Afghanistan          AFG  2021      1                 755.0\n",
      "1  Afghanistan          AFG  2021      2                 512.0\n",
      "2  Afghanistan          AFG  2021      3                 351.0\n",
      "3  Afghanistan          AFG  2021      4                 367.0\n",
      "4  Afghanistan          AFG  2021      5                 537.0\n"
     ]
    }
   ],
   "source": [
    "import pandas as pd\n",
    "\n",
    "# Load dataset\n",
    "file_path = \"Downloads/Dengue_Global_Data.csv\"\n",
    "df = pd.read_csv(file_path)\n",
    "\n",
    "# Standardize country names\n",
    "df['full_name'] = df['full_name'].str.title()\n",
    "\n",
    "# Drop unnecessary columns\n",
    "columns_to_drop = [\n",
    "    'adm_0_name', 'adm_1_name', 'adm_2_name', 'RNE_iso_code', 'IBGE_code', \n",
    "    'case_definition_standardised', 'S_res', 'T_res', 'UUID'\n",
    "]\n",
    "df.drop(columns=columns_to_drop, inplace=True)\n",
    "\n",
    "# Convert start and end dates to datetime\n",
    "df['calendar_start_date'] = pd.to_datetime(df['calendar_start_date'], errors='coerce')\n",
    "df['calendar_end_date'] = pd.to_datetime(df['calendar_end_date'], errors='coerce')\n",
    "\n",
    "# Extract month and year from start date\n",
    "df['Year'] = df['calendar_start_date'].dt.year\n",
    "df['Month'] = df['calendar_start_date'].dt.month\n",
    "\n",
    "# Group by country, year, and month, summing the total cases\n",
    "df_aggregated = df.groupby(['full_name', 'ISO_A0', 'Year', 'Month']).agg({'dengue_total': 'sum'}).reset_index()\n",
    "\n",
    "# Remove the start and end date columns (since we aggregated)\n",
    "df_aggregated.drop(columns=['calendar_start_date', 'calendar_end_date'], errors='ignore', inplace=True)\n",
    "\n",
    "# Rename columns\n",
    "df_aggregated.rename(columns={\n",
    "    'full_name': 'Country',\n",
    "    'ISO_A0' : 'Country Code',\n",
    "    'dengue_total' : 'Monthly_dengue_total'\n",
    "}, inplace=True)\n",
    "\n",
    "# Save the cleaned dataset\n",
    "output_path = \"Cleaned_Dengue.csv\"\n",
    "df_aggregated.to_csv(output_path, index=False)\n",
    "\n",
    "# Display first few rows\n",
    "print(df_aggregated.head())\n"
   ]
  },
  {
   "cell_type": "code",
   "execution_count": null,
   "id": "1441f4cd-e22b-4f3d-ab29-927eae6640db",
   "metadata": {},
   "outputs": [],
   "source": []
  },
  {
   "cell_type": "code",
   "execution_count": null,
   "id": "608b4a97-38d2-4095-9f37-37fe7771f476",
   "metadata": {},
   "outputs": [],
   "source": []
  }
 ],
 "metadata": {
  "kernelspec": {
   "display_name": "Python 3 (ipykernel)",
   "language": "python",
   "name": "python3"
  },
  "language_info": {
   "codemirror_mode": {
    "name": "ipython",
    "version": 3
   },
   "file_extension": ".py",
   "mimetype": "text/x-python",
   "name": "python",
   "nbconvert_exporter": "python",
   "pygments_lexer": "ipython3",
   "version": "3.11.5"
  }
 },
 "nbformat": 4,
 "nbformat_minor": 5
}
